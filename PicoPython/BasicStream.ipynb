{
 "cells": [
  {
   "cell_type": "code",
   "execution_count": 1,
   "metadata": {},
   "outputs": [],
   "source": [
    "import ctypes\n",
    "import numpy as np\n",
    "import matplotlib.pyplot as plt\n",
    "from picosdk.discover import find_all_units\n",
    "from picosdk.ps4000a import ps4000a as ps\n",
    "from picosdk.functions import adc2mV, assert_pico_ok\n",
    "import time"
   ]
  },
  {
   "cell_type": "markdown",
   "metadata": {},
   "source": [
    "### 1. Find / Open the scope unit"
   ]
  },
  {
   "cell_type": "code",
   "execution_count": 2,
   "metadata": {},
   "outputs": [],
   "source": [
    "# Handler and status\n",
    "chandle = ctypes.c_int16()\n",
    "status = {}\n",
    "# Open PicoScope Series device\n",
    "# Returns handle to chandle for use in future API functions\n",
    "status[\"openunit\"] = ps.ps4000aOpenUnit(ctypes.byref(chandle), None)\n",
    "\n",
    "# Verifying pico is okay\n",
    "try:\n",
    "    assert_pico_ok(status[\"openunit\"])\n",
    "except:\n",
    "    powerStatus = status[\"openunit\"]\n",
    "\n",
    "    if powerStatus == 286:\n",
    "        status[\"changePowerSource\"] = ps.ps4000aChangePowerSource(chandle, powerStatus)\n",
    "    else:\n",
    "        raise\n",
    "    assert_pico_ok(status[\"changePowerSource\"])"
   ]
  },
  {
   "cell_type": "markdown",
   "metadata": {},
   "source": [
    "### 2. Channel Setting"
   ]
  },
  {
   "cell_type": "code",
   "execution_count": 3,
   "metadata": {},
   "outputs": [],
   "source": [
    "# Channel Setting, Voltage range\n",
    "ENABLED = 1\n",
    "DISABLED = 0\n",
    "ANALOGUE_OFFSET = 0.0\n",
    "VOLTAGE_RANGE = 0  # +- 10mV\n",
    "\n",
    "status[\"setChA\"] = ps.ps4000aSetChannel(\n",
    "    chandle,\n",
    "    ps.PS4000A_CHANNEL[\"PS4000A_CHANNEL_A\"],\n",
    "    ENABLED,\n",
    "    ps.PS4000A_COUPLING[\"PS4000A_DC\"],\n",
    "    VOLTAGE_RANGE,\n",
    "    ANALOGUE_OFFSET,\n",
    ")\n",
    "\n",
    "assert_pico_ok(status[\"setChA\"])"
   ]
  },
  {
   "cell_type": "code",
   "execution_count": 4,
   "metadata": {},
   "outputs": [],
   "source": [
    "# Buffer size calculation\n",
    "sizeOfOneBuffer = int(24e6)  # Size of buffer\n",
    "numBuffersToCapture = 10\n",
    "totalSamples = sizeOfOneBuffer * numBuffersToCapture\n",
    "\n",
    "# Create buffers ready for assigning pointers for data collection\n",
    "bufferAMax = np.zeros(shape=sizeOfOneBuffer, dtype=np.int16)\n",
    "memory_segment = 0\n",
    "\n",
    "# Set Data Buffers\n",
    "status[\"setDataBuffersA\"] = ps.ps4000aSetDataBuffers(\n",
    "    chandle,\n",
    "    ps.PS4000A_CHANNEL[\"PS4000A_CHANNEL_A\"],\n",
    "    bufferAMax.ctypes.data_as(ctypes.POINTER(ctypes.c_int16)),\n",
    "    None,\n",
    "    sizeOfOneBuffer,\n",
    "    memory_segment,\n",
    "    ps.PS4000A_RATIO_MODE[\"PS4000A_RATIO_MODE_NONE\"],\n",
    ")\n",
    "assert_pico_ok(status[\"setDataBuffersA\"])"
   ]
  },
  {
   "cell_type": "markdown",
   "metadata": {},
   "source": [
    "## 3. Streaming Mode"
   ]
  },
  {
   "cell_type": "code",
   "execution_count": 40,
   "metadata": {},
   "outputs": [
    {
     "name": "stdout",
     "output_type": "stream",
     "text": [
      "Done grabbing values.\n",
      "Done converting values.\n",
      "done\n"
     ]
    }
   ],
   "source": [
    "# Begin streaming mode:\n",
    "\n",
    "# Time interval between data points. i.e., Sampling rate\n",
    "interval_value = 50  # 80MSa/s\n",
    "sampleInterval = ctypes.c_int32(interval_value)\n",
    "sampleUnits = ps.PS4000A_TIME_UNITS[\"PS4000A_NS\"]\n",
    "\n",
    "# We are not triggering:\n",
    "maxPreTriggerSamples = 0\n",
    "autoStopOn = 1\n",
    "downsampleRatio = 1  # No downsampling\n",
    "\n",
    "# Run Straming\n",
    "status[\"runStreaming\"] = ps.ps4000aRunStreaming(\n",
    "    chandle,\n",
    "    ctypes.byref(sampleInterval),\n",
    "    sampleUnits,\n",
    "    maxPreTriggerSamples,\n",
    "    totalSamples,\n",
    "    autoStopOn,\n",
    "    downsampleRatio,\n",
    "    ps.PS4000A_RATIO_MODE[\"PS4000A_RATIO_MODE_NONE\"],\n",
    "    sizeOfOneBuffer,\n",
    ")\n",
    "assert_pico_ok(status[\"runStreaming\"])\n",
    "\n",
    "# We need a big buffer, not registered with the driver, to keep our complete capture in.\n",
    "bufferCompleteA = np.zeros(shape=totalSamples, dtype=np.int16)\n",
    "nextSample = 0\n",
    "autoStopOuter = False\n",
    "wasCalledBack = False\n",
    "\n",
    "\n",
    "def streaming_callback(\n",
    "    handle, noOfSamples, startIndex, overflow, triggerAt, triggered, autoStop, param\n",
    "):\n",
    "    global nextSample, autoStopOuter, wasCalledBack\n",
    "    wasCalledBack = True\n",
    "    destEnd = nextSample + noOfSamples\n",
    "    sourceEnd = startIndex + noOfSamples\n",
    "    bufferCompleteA[nextSample:destEnd] = bufferAMax[startIndex:sourceEnd]\n",
    "    nextSample += noOfSamples\n",
    "    if autoStop:\n",
    "        autoStopOuter = True\n",
    "\n",
    "\n",
    "# Convert the python function into a C function pointer.\n",
    "cFuncPtr = ps.StreamingReadyType(streaming_callback)\n",
    "\n",
    "\n",
    "# Fetch data from the driver in a loop, copying it out of the registered buffers and into our complete one.\n",
    "while nextSample < totalSamples and not autoStopOuter:\n",
    "    wasCalledBack = False\n",
    "    status[\"getStreamingLastestValues\"] = ps.ps4000aGetStreamingLatestValues(\n",
    "        chandle, cFuncPtr, None\n",
    "    )\n",
    "    if not wasCalledBack:\n",
    "        # If we weren't called back by the driver, this means no data is ready. Sleep for a short while before trying\n",
    "        # again.\n",
    "        time.sleep(0.01)\n",
    "\n",
    "print(\"Done grabbing values.\")\n",
    "\n",
    "\n",
    "# Find maximum ADC count value\n",
    "# handle = chandle\n",
    "# pointer to value = ctypes.byref(maxADC)\n",
    "maxADC = ctypes.c_int16()\n",
    "status[\"maximumValue\"] = ps.ps4000aMaximumValue(chandle, ctypes.byref(maxADC))\n",
    "assert_pico_ok(status[\"maximumValue\"])\n",
    "\n",
    "\n",
    "# Convert ADC counts data to mV\n",
    "raw_datas = bufferCompleteA * 10 / maxADC.value\n",
    "print(\"Done converting values.\")\n",
    "\n",
    "rmses = []\n",
    "spacing = np.linspace(sizeOfOneBuffer, totalSamples, numBuffersToCapture, dtype=int)\n",
    "for i in spacing:\n",
    "    if i == spacing[0]:\n",
    "        raw_slicing = raw_datas[:i]\n",
    "        rmses.append(np.sqrt((raw_slicing**2).mean()))\n",
    "    else:\n",
    "        raw_slicing = raw_datas[i - spacing[0] : i]\n",
    "        rmses.append(np.sqrt((raw_slicing**2).mean()))\n",
    "\n",
    "print(\"done\")"
   ]
  },
  {
   "cell_type": "code",
   "execution_count": 44,
   "metadata": {},
   "outputs": [
    {
     "data": {
      "text/plain": [
       "0.10144092754777326"
      ]
     },
     "execution_count": 44,
     "metadata": {},
     "output_type": "execute_result"
    }
   ],
   "source": [
    "np.array(rmses).mean()"
   ]
  },
  {
   "cell_type": "code",
   "execution_count": 38,
   "metadata": {},
   "outputs": [
    {
     "data": {
      "text/plain": [
       "array([ 24000000,  48000000,  72000000,  96000000, 120000000, 144000000,\n",
       "       168000000, 192000000, 216000000, 240000000])"
      ]
     },
     "execution_count": 38,
     "metadata": {},
     "output_type": "execute_result"
    }
   ],
   "source": [
    "np.linspace(24e6, 24e7, 10, dtype=int)"
   ]
  },
  {
   "cell_type": "code",
   "execution_count": 32,
   "metadata": {},
   "outputs": [],
   "source": [
    "spacing = "
   ]
  },
  {
   "cell_type": "code",
   "execution_count": 36,
   "metadata": {},
   "outputs": [
    {
     "data": {
      "text/plain": [
       "(24000000,)"
      ]
     },
     "execution_count": 36,
     "metadata": {},
     "output_type": "execute_result"
    }
   ],
   "source": [
    "raw_datas[int(spacing[-2]) : int(spacing[-1])].shape"
   ]
  },
  {
   "cell_type": "code",
   "execution_count": 23,
   "metadata": {},
   "outputs": [
    {
     "data": {
      "text/plain": [
       "(240000000,)"
      ]
     },
     "execution_count": 23,
     "metadata": {},
     "output_type": "execute_result"
    }
   ],
   "source": [
    "raw_datas.shape"
   ]
  },
  {
   "cell_type": "code",
   "execution_count": 27,
   "metadata": {},
   "outputs": [
    {
     "data": {
      "text/plain": [
       "True"
      ]
     },
     "execution_count": 27,
     "metadata": {},
     "output_type": "execute_result"
    }
   ],
   "source": [
    "240000000 == 24e7"
   ]
  },
  {
   "cell_type": "code",
   "execution_count": 6,
   "metadata": {},
   "outputs": [
    {
     "data": {
      "image/png": "[encoded data removed]",
      "text/plain": [
       "<Figure size 640x480 with 1 Axes>"
      ]
     },
     "metadata": {},
     "output_type": "display_data"
    },
    {
     "name": "stdout",
     "output_type": "stream",
     "text": [
      "{'openunit': 0, 'setChA': 0, 'setDataBuffersA': 0, 'runStreaming': 0, 'getStreamingLastestValues': 0, 'maximumValue': 0, 'stop': 0, 'close': 0}\n"
     ]
    }
   ],
   "source": [
    "# Plotting\n",
    "\n",
    "actualSampleInterval = sampleInterval.value\n",
    "actualSampleIntervalNs = actualSampleInterval * 1000\n",
    "# Create time data\n",
    "time = np.linspace(0, (totalSamples - 1) * actualSampleIntervalNs, totalSamples)\n",
    "\n",
    "# Plot data from channel A and B\n",
    "plt.plot(time, raw_datas[:])\n",
    "plt.xlabel(\"Time (ns)\")\n",
    "plt.ylabel(\"Voltage (mV)\")\n",
    "plt.show()\n",
    "\n",
    "# Stop the scope\n",
    "# handle = chandle\n",
    "status[\"stop\"] = ps.ps4000aStop(chandle)\n",
    "assert_pico_ok(status[\"stop\"])\n",
    "\n",
    "# Disconnect the scope\n",
    "# handle = chandle\n",
    "status[\"close\"] = ps.ps4000aCloseUnit(chandle)\n",
    "assert_pico_ok(status[\"close\"])\n",
    "\n",
    "# Display status returns\n",
    "print(status)"
   ]
  }
 ],
 "metadata": {
  "kernelspec": {
   "display_name": ".venv",
   "language": "python",
   "name": "python3"
  },
  "language_info": {
   "codemirror_mode": {
    "name": "ipython",
    "version": 3
   },
   "file_extension": ".py",
   "mimetype": "text/x-python",
   "name": "python",
   "nbconvert_exporter": "python",
   "pygments_lexer": "ipython3",
   "version": "3.9.13"
  },
  "orig_nbformat": 4
 },
 "nbformat": 4,
 "nbformat_minor": 2
}
